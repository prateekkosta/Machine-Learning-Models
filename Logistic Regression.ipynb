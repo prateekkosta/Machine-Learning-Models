{
 "cells": [
  {
   "cell_type": "code",
   "execution_count": 1,
   "id": "f5dc5875",
   "metadata": {},
   "outputs": [],
   "source": [
    "import numpy as np\n",
    "import pandas as pd\n",
    "import matplotlib.pyplot as plt\n",
    "import seaborn as sns"
   ]
  },
  {
   "cell_type": "code",
   "execution_count": 2,
   "id": "2c74af2f",
   "metadata": {},
   "outputs": [],
   "source": [
    "from sklearn.metrics import accuracy_score, precision_score, recall_score, classification_report"
   ]
  },
  {
   "cell_type": "code",
   "execution_count": 3,
   "id": "96b48773",
   "metadata": {},
   "outputs": [],
   "source": [
    "from sklearn.model_selection import train_test_split\n",
    "from sklearn.preprocessing import StandardScaler\n",
    "from sklearn.linear_model import LogisticRegression\n",
    "from matplotlib.colors import ListedColormap\n",
    "from sklearn import metrics\n",
    "%matplotlib inline\n",
    "import warnings;\n",
    "warnings.filterwarnings('ignore');"
   ]
  },
  {
   "cell_type": "code",
   "execution_count": null,
   "id": "cb333512",
   "metadata": {},
   "outputs": [],
   "source": []
  },
  {
   "cell_type": "markdown",
   "id": "c9777e8c",
   "metadata": {},
   "source": [
    "## Importing Data"
   ]
  },
  {
   "cell_type": "code",
   "execution_count": 4,
   "id": "89091ba7",
   "metadata": {},
   "outputs": [
    {
     "data": {
      "text/html": [
       "<div>\n",
       "<style scoped>\n",
       "    .dataframe tbody tr th:only-of-type {\n",
       "        vertical-align: middle;\n",
       "    }\n",
       "\n",
       "    .dataframe tbody tr th {\n",
       "        vertical-align: top;\n",
       "    }\n",
       "\n",
       "    .dataframe thead th {\n",
       "        text-align: right;\n",
       "    }\n",
       "</style>\n",
       "<table border=\"1\" class=\"dataframe\">\n",
       "  <thead>\n",
       "    <tr style=\"text-align: right;\">\n",
       "      <th></th>\n",
       "      <th>User ID</th>\n",
       "      <th>Gender</th>\n",
       "      <th>Age</th>\n",
       "      <th>EstimatedSalary</th>\n",
       "      <th>Purchased</th>\n",
       "    </tr>\n",
       "  </thead>\n",
       "  <tbody>\n",
       "    <tr>\n",
       "      <th>0</th>\n",
       "      <td>15624510</td>\n",
       "      <td>Male</td>\n",
       "      <td>19</td>\n",
       "      <td>19000</td>\n",
       "      <td>0</td>\n",
       "    </tr>\n",
       "    <tr>\n",
       "      <th>1</th>\n",
       "      <td>15810944</td>\n",
       "      <td>Male</td>\n",
       "      <td>35</td>\n",
       "      <td>20000</td>\n",
       "      <td>0</td>\n",
       "    </tr>\n",
       "    <tr>\n",
       "      <th>2</th>\n",
       "      <td>15668575</td>\n",
       "      <td>Female</td>\n",
       "      <td>26</td>\n",
       "      <td>43000</td>\n",
       "      <td>0</td>\n",
       "    </tr>\n",
       "    <tr>\n",
       "      <th>3</th>\n",
       "      <td>15603246</td>\n",
       "      <td>Female</td>\n",
       "      <td>27</td>\n",
       "      <td>57000</td>\n",
       "      <td>0</td>\n",
       "    </tr>\n",
       "    <tr>\n",
       "      <th>4</th>\n",
       "      <td>15804002</td>\n",
       "      <td>Male</td>\n",
       "      <td>19</td>\n",
       "      <td>76000</td>\n",
       "      <td>0</td>\n",
       "    </tr>\n",
       "  </tbody>\n",
       "</table>\n",
       "</div>"
      ],
      "text/plain": [
       "    User ID  Gender  Age  EstimatedSalary  Purchased\n",
       "0  15624510    Male   19            19000          0\n",
       "1  15810944    Male   35            20000          0\n",
       "2  15668575  Female   26            43000          0\n",
       "3  15603246  Female   27            57000          0\n",
       "4  15804002    Male   19            76000          0"
      ]
     },
     "execution_count": 4,
     "metadata": {},
     "output_type": "execute_result"
    }
   ],
   "source": [
    "dataset= pd.read_csv('Social_Network_Ads.csv')\n",
    "\n",
    "dataset.head()"
   ]
  },
  {
   "cell_type": "code",
   "execution_count": 5,
   "id": "feffc55d",
   "metadata": {},
   "outputs": [
    {
     "data": {
      "text/html": [
       "<div>\n",
       "<style scoped>\n",
       "    .dataframe tbody tr th:only-of-type {\n",
       "        vertical-align: middle;\n",
       "    }\n",
       "\n",
       "    .dataframe tbody tr th {\n",
       "        vertical-align: top;\n",
       "    }\n",
       "\n",
       "    .dataframe thead th {\n",
       "        text-align: right;\n",
       "    }\n",
       "</style>\n",
       "<table border=\"1\" class=\"dataframe\">\n",
       "  <thead>\n",
       "    <tr style=\"text-align: right;\">\n",
       "      <th></th>\n",
       "      <th>count</th>\n",
       "      <th>mean</th>\n",
       "      <th>std</th>\n",
       "      <th>min</th>\n",
       "      <th>25%</th>\n",
       "      <th>50%</th>\n",
       "      <th>75%</th>\n",
       "      <th>max</th>\n",
       "    </tr>\n",
       "  </thead>\n",
       "  <tbody>\n",
       "    <tr>\n",
       "      <th>User ID</th>\n",
       "      <td>400.0</td>\n",
       "      <td>1.569154e+07</td>\n",
       "      <td>71658.321581</td>\n",
       "      <td>15566689.0</td>\n",
       "      <td>15626763.75</td>\n",
       "      <td>15694341.5</td>\n",
       "      <td>15750363.0</td>\n",
       "      <td>15815236.0</td>\n",
       "    </tr>\n",
       "    <tr>\n",
       "      <th>Age</th>\n",
       "      <td>400.0</td>\n",
       "      <td>3.765500e+01</td>\n",
       "      <td>10.482877</td>\n",
       "      <td>18.0</td>\n",
       "      <td>29.75</td>\n",
       "      <td>37.0</td>\n",
       "      <td>46.0</td>\n",
       "      <td>60.0</td>\n",
       "    </tr>\n",
       "    <tr>\n",
       "      <th>EstimatedSalary</th>\n",
       "      <td>400.0</td>\n",
       "      <td>6.974250e+04</td>\n",
       "      <td>34096.960282</td>\n",
       "      <td>15000.0</td>\n",
       "      <td>43000.00</td>\n",
       "      <td>70000.0</td>\n",
       "      <td>88000.0</td>\n",
       "      <td>150000.0</td>\n",
       "    </tr>\n",
       "    <tr>\n",
       "      <th>Purchased</th>\n",
       "      <td>400.0</td>\n",
       "      <td>3.575000e-01</td>\n",
       "      <td>0.479864</td>\n",
       "      <td>0.0</td>\n",
       "      <td>0.00</td>\n",
       "      <td>0.0</td>\n",
       "      <td>1.0</td>\n",
       "      <td>1.0</td>\n",
       "    </tr>\n",
       "  </tbody>\n",
       "</table>\n",
       "</div>"
      ],
      "text/plain": [
       "                 count          mean           std         min          25%  \\\n",
       "User ID          400.0  1.569154e+07  71658.321581  15566689.0  15626763.75   \n",
       "Age              400.0  3.765500e+01     10.482877        18.0        29.75   \n",
       "EstimatedSalary  400.0  6.974250e+04  34096.960282     15000.0     43000.00   \n",
       "Purchased        400.0  3.575000e-01      0.479864         0.0         0.00   \n",
       "\n",
       "                        50%         75%         max  \n",
       "User ID          15694341.5  15750363.0  15815236.0  \n",
       "Age                    37.0        46.0        60.0  \n",
       "EstimatedSalary     70000.0     88000.0    150000.0  \n",
       "Purchased               0.0         1.0         1.0  "
      ]
     },
     "execution_count": 5,
     "metadata": {},
     "output_type": "execute_result"
    }
   ],
   "source": [
    "dataset.describe().T"
   ]
  },
  {
   "cell_type": "code",
   "execution_count": 6,
   "id": "3b45aef8",
   "metadata": {},
   "outputs": [
    {
     "data": {
      "text/html": [
       "<div>\n",
       "<style scoped>\n",
       "    .dataframe tbody tr th:only-of-type {\n",
       "        vertical-align: middle;\n",
       "    }\n",
       "\n",
       "    .dataframe tbody tr th {\n",
       "        vertical-align: top;\n",
       "    }\n",
       "\n",
       "    .dataframe thead th {\n",
       "        text-align: right;\n",
       "    }\n",
       "</style>\n",
       "<table border=\"1\" class=\"dataframe\">\n",
       "  <thead>\n",
       "    <tr style=\"text-align: right;\">\n",
       "      <th></th>\n",
       "      <th>count</th>\n",
       "      <th>unique</th>\n",
       "      <th>top</th>\n",
       "      <th>freq</th>\n",
       "      <th>mean</th>\n",
       "      <th>std</th>\n",
       "      <th>min</th>\n",
       "      <th>25%</th>\n",
       "      <th>50%</th>\n",
       "      <th>75%</th>\n",
       "      <th>max</th>\n",
       "    </tr>\n",
       "  </thead>\n",
       "  <tbody>\n",
       "    <tr>\n",
       "      <th>User ID</th>\n",
       "      <td>400.0</td>\n",
       "      <td>NaN</td>\n",
       "      <td>NaN</td>\n",
       "      <td>NaN</td>\n",
       "      <td>15691539.7575</td>\n",
       "      <td>71658.321581</td>\n",
       "      <td>15566689.0</td>\n",
       "      <td>15626763.75</td>\n",
       "      <td>15694341.5</td>\n",
       "      <td>15750363.0</td>\n",
       "      <td>15815236.0</td>\n",
       "    </tr>\n",
       "    <tr>\n",
       "      <th>Gender</th>\n",
       "      <td>400</td>\n",
       "      <td>2</td>\n",
       "      <td>Female</td>\n",
       "      <td>204</td>\n",
       "      <td>NaN</td>\n",
       "      <td>NaN</td>\n",
       "      <td>NaN</td>\n",
       "      <td>NaN</td>\n",
       "      <td>NaN</td>\n",
       "      <td>NaN</td>\n",
       "      <td>NaN</td>\n",
       "    </tr>\n",
       "    <tr>\n",
       "      <th>Age</th>\n",
       "      <td>400.0</td>\n",
       "      <td>NaN</td>\n",
       "      <td>NaN</td>\n",
       "      <td>NaN</td>\n",
       "      <td>37.655</td>\n",
       "      <td>10.482877</td>\n",
       "      <td>18.0</td>\n",
       "      <td>29.75</td>\n",
       "      <td>37.0</td>\n",
       "      <td>46.0</td>\n",
       "      <td>60.0</td>\n",
       "    </tr>\n",
       "    <tr>\n",
       "      <th>EstimatedSalary</th>\n",
       "      <td>400.0</td>\n",
       "      <td>NaN</td>\n",
       "      <td>NaN</td>\n",
       "      <td>NaN</td>\n",
       "      <td>69742.5</td>\n",
       "      <td>34096.960282</td>\n",
       "      <td>15000.0</td>\n",
       "      <td>43000.0</td>\n",
       "      <td>70000.0</td>\n",
       "      <td>88000.0</td>\n",
       "      <td>150000.0</td>\n",
       "    </tr>\n",
       "    <tr>\n",
       "      <th>Purchased</th>\n",
       "      <td>400.0</td>\n",
       "      <td>NaN</td>\n",
       "      <td>NaN</td>\n",
       "      <td>NaN</td>\n",
       "      <td>0.3575</td>\n",
       "      <td>0.479864</td>\n",
       "      <td>0.0</td>\n",
       "      <td>0.0</td>\n",
       "      <td>0.0</td>\n",
       "      <td>1.0</td>\n",
       "      <td>1.0</td>\n",
       "    </tr>\n",
       "  </tbody>\n",
       "</table>\n",
       "</div>"
      ],
      "text/plain": [
       "                 count unique     top freq           mean           std  \\\n",
       "User ID          400.0    NaN     NaN  NaN  15691539.7575  71658.321581   \n",
       "Gender             400      2  Female  204            NaN           NaN   \n",
       "Age              400.0    NaN     NaN  NaN         37.655     10.482877   \n",
       "EstimatedSalary  400.0    NaN     NaN  NaN        69742.5  34096.960282   \n",
       "Purchased        400.0    NaN     NaN  NaN         0.3575      0.479864   \n",
       "\n",
       "                        min          25%         50%         75%         max  \n",
       "User ID          15566689.0  15626763.75  15694341.5  15750363.0  15815236.0  \n",
       "Gender                  NaN          NaN         NaN         NaN         NaN  \n",
       "Age                    18.0        29.75        37.0        46.0        60.0  \n",
       "EstimatedSalary     15000.0      43000.0     70000.0     88000.0    150000.0  \n",
       "Purchased               0.0          0.0         0.0         1.0         1.0  "
      ]
     },
     "execution_count": 6,
     "metadata": {},
     "output_type": "execute_result"
    }
   ],
   "source": [
    "dataset.describe(include= 'all').T"
   ]
  },
  {
   "cell_type": "code",
   "execution_count": 7,
   "id": "20cbdd4b",
   "metadata": {},
   "outputs": [
    {
     "name": "stdout",
     "output_type": "stream",
     "text": [
      "<class 'pandas.core.frame.DataFrame'>\n",
      "RangeIndex: 400 entries, 0 to 399\n",
      "Data columns (total 5 columns):\n",
      " #   Column           Non-Null Count  Dtype \n",
      "---  ------           --------------  ----- \n",
      " 0   User ID          400 non-null    int64 \n",
      " 1   Gender           400 non-null    object\n",
      " 2   Age              400 non-null    int64 \n",
      " 3   EstimatedSalary  400 non-null    int64 \n",
      " 4   Purchased        400 non-null    int64 \n",
      "dtypes: int64(4), object(1)\n",
      "memory usage: 15.8+ KB\n"
     ]
    }
   ],
   "source": [
    "dataset.info()"
   ]
  },
  {
   "cell_type": "code",
   "execution_count": null,
   "id": "b758ad65",
   "metadata": {},
   "outputs": [],
   "source": []
  },
  {
   "cell_type": "markdown",
   "id": "e169e5df",
   "metadata": {},
   "source": [
    "### Finding Correlation between features"
   ]
  },
  {
   "cell_type": "code",
   "execution_count": 8,
   "id": "dc41ae0b",
   "metadata": {},
   "outputs": [
    {
     "data": {
      "text/html": [
       "<div>\n",
       "<style scoped>\n",
       "    .dataframe tbody tr th:only-of-type {\n",
       "        vertical-align: middle;\n",
       "    }\n",
       "\n",
       "    .dataframe tbody tr th {\n",
       "        vertical-align: top;\n",
       "    }\n",
       "\n",
       "    .dataframe thead th {\n",
       "        text-align: right;\n",
       "    }\n",
       "</style>\n",
       "<table border=\"1\" class=\"dataframe\">\n",
       "  <thead>\n",
       "    <tr style=\"text-align: right;\">\n",
       "      <th></th>\n",
       "      <th>User ID</th>\n",
       "      <th>Age</th>\n",
       "      <th>EstimatedSalary</th>\n",
       "      <th>Purchased</th>\n",
       "    </tr>\n",
       "  </thead>\n",
       "  <tbody>\n",
       "    <tr>\n",
       "      <th>User ID</th>\n",
       "      <td>1.000000</td>\n",
       "      <td>-0.000721</td>\n",
       "      <td>0.071097</td>\n",
       "      <td>0.007120</td>\n",
       "    </tr>\n",
       "    <tr>\n",
       "      <th>Age</th>\n",
       "      <td>-0.000721</td>\n",
       "      <td>1.000000</td>\n",
       "      <td>0.155238</td>\n",
       "      <td>0.622454</td>\n",
       "    </tr>\n",
       "    <tr>\n",
       "      <th>EstimatedSalary</th>\n",
       "      <td>0.071097</td>\n",
       "      <td>0.155238</td>\n",
       "      <td>1.000000</td>\n",
       "      <td>0.362083</td>\n",
       "    </tr>\n",
       "    <tr>\n",
       "      <th>Purchased</th>\n",
       "      <td>0.007120</td>\n",
       "      <td>0.622454</td>\n",
       "      <td>0.362083</td>\n",
       "      <td>1.000000</td>\n",
       "    </tr>\n",
       "  </tbody>\n",
       "</table>\n",
       "</div>"
      ],
      "text/plain": [
       "                  User ID       Age  EstimatedSalary  Purchased\n",
       "User ID          1.000000 -0.000721         0.071097   0.007120\n",
       "Age             -0.000721  1.000000         0.155238   0.622454\n",
       "EstimatedSalary  0.071097  0.155238         1.000000   0.362083\n",
       "Purchased        0.007120  0.622454         0.362083   1.000000"
      ]
     },
     "execution_count": 8,
     "metadata": {},
     "output_type": "execute_result"
    }
   ],
   "source": [
    "dataset.corr()"
   ]
  },
  {
   "cell_type": "code",
   "execution_count": null,
   "id": "8d0c8390",
   "metadata": {},
   "outputs": [],
   "source": []
  },
  {
   "cell_type": "code",
   "execution_count": 9,
   "id": "2f73a2f6",
   "metadata": {},
   "outputs": [
    {
     "data": {
      "text/plain": [
       "<AxesSubplot:>"
      ]
     },
     "execution_count": 9,
     "metadata": {},
     "output_type": "execute_result"
    },
    {
     "data": {
      "image/png": "[encoded data removed]",
      "text/plain": [
       "<Figure size 640x480 with 2 Axes>"
      ]
     },
     "metadata": {},
     "output_type": "display_data"
    }
   ],
   "source": [
    "sns.heatmap(dataset.corr(), annot= True, cmap ='RdYlGn')"
   ]
  },
  {
   "cell_type": "code",
   "execution_count": null,
   "id": "ee96ae9f",
   "metadata": {},
   "outputs": [],
   "source": []
  },
  {
   "cell_type": "code",
   "execution_count": 10,
   "id": "5326c2c3",
   "metadata": {},
   "outputs": [
    {
     "data": {
      "text/plain": [
       "Female    204\n",
       "Male      196\n",
       "Name: Gender, dtype: int64"
      ]
     },
     "execution_count": 10,
     "metadata": {},
     "output_type": "execute_result"
    }
   ],
   "source": [
    "dataset.Gender.value_counts()"
   ]
  },
  {
   "cell_type": "code",
   "execution_count": 11,
   "id": "662f0390",
   "metadata": {},
   "outputs": [
    {
     "data": {
      "text/plain": [
       "0    257\n",
       "1    143\n",
       "Name: Purchased, dtype: int64"
      ]
     },
     "execution_count": 11,
     "metadata": {},
     "output_type": "execute_result"
    }
   ],
   "source": [
    "dataset.Purchased.value_counts()"
   ]
  },
  {
   "cell_type": "code",
   "execution_count": 12,
   "id": "b8be720a",
   "metadata": {},
   "outputs": [
    {
     "data": {
      "text/plain": [
       "0    0.6425\n",
       "1    0.3575\n",
       "Name: Purchased, dtype: float64"
      ]
     },
     "execution_count": 12,
     "metadata": {},
     "output_type": "execute_result"
    }
   ],
   "source": [
    "# For checking class balance\n",
    "\n",
    "dataset['Purchased'].value_counts(normalize= True)"
   ]
  },
  {
   "cell_type": "code",
   "execution_count": 13,
   "id": "c8ab8d9b",
   "metadata": {},
   "outputs": [
    {
     "data": {
      "text/plain": [
       "0    0.663265\n",
       "1    0.336735\n",
       "Name: Purchased, dtype: float64"
      ]
     },
     "execution_count": 13,
     "metadata": {},
     "output_type": "execute_result"
    }
   ],
   "source": [
    "# Checking for only Male\n",
    "\n",
    "dataset[dataset.Gender=='Male']['Purchased'].value_counts(normalize= True)"
   ]
  },
  {
   "cell_type": "code",
   "execution_count": 14,
   "id": "3b4ed977",
   "metadata": {},
   "outputs": [
    {
     "data": {
      "text/plain": [
       "0    0.622549\n",
       "1    0.377451\n",
       "Name: Purchased, dtype: float64"
      ]
     },
     "execution_count": 14,
     "metadata": {},
     "output_type": "execute_result"
    }
   ],
   "source": [
    "# Checking for only Female\n",
    "\n",
    "dataset[dataset.Gender=='Female']['Purchased'].value_counts(normalize= True)"
   ]
  },
  {
   "cell_type": "markdown",
   "id": "71ef8b90",
   "metadata": {},
   "source": [
    "### Extracting variables"
   ]
  },
  {
   "cell_type": "code",
   "execution_count": 15,
   "id": "416e187a",
   "metadata": {},
   "outputs": [
    {
     "data": {
      "text/html": [
       "<div>\n",
       "<style scoped>\n",
       "    .dataframe tbody tr th:only-of-type {\n",
       "        vertical-align: middle;\n",
       "    }\n",
       "\n",
       "    .dataframe tbody tr th {\n",
       "        vertical-align: top;\n",
       "    }\n",
       "\n",
       "    .dataframe thead th {\n",
       "        text-align: right;\n",
       "    }\n",
       "</style>\n",
       "<table border=\"1\" class=\"dataframe\">\n",
       "  <thead>\n",
       "    <tr style=\"text-align: right;\">\n",
       "      <th></th>\n",
       "      <th>Age</th>\n",
       "      <th>EstimatedSalary</th>\n",
       "    </tr>\n",
       "  </thead>\n",
       "  <tbody>\n",
       "    <tr>\n",
       "      <th>0</th>\n",
       "      <td>19</td>\n",
       "      <td>19000</td>\n",
       "    </tr>\n",
       "    <tr>\n",
       "      <th>1</th>\n",
       "      <td>35</td>\n",
       "      <td>20000</td>\n",
       "    </tr>\n",
       "    <tr>\n",
       "      <th>2</th>\n",
       "      <td>26</td>\n",
       "      <td>43000</td>\n",
       "    </tr>\n",
       "    <tr>\n",
       "      <th>3</th>\n",
       "      <td>27</td>\n",
       "      <td>57000</td>\n",
       "    </tr>\n",
       "    <tr>\n",
       "      <th>4</th>\n",
       "      <td>19</td>\n",
       "      <td>76000</td>\n",
       "    </tr>\n",
       "    <tr>\n",
       "      <th>...</th>\n",
       "      <td>...</td>\n",
       "      <td>...</td>\n",
       "    </tr>\n",
       "    <tr>\n",
       "      <th>395</th>\n",
       "      <td>46</td>\n",
       "      <td>41000</td>\n",
       "    </tr>\n",
       "    <tr>\n",
       "      <th>396</th>\n",
       "      <td>51</td>\n",
       "      <td>23000</td>\n",
       "    </tr>\n",
       "    <tr>\n",
       "      <th>397</th>\n",
       "      <td>50</td>\n",
       "      <td>20000</td>\n",
       "    </tr>\n",
       "    <tr>\n",
       "      <th>398</th>\n",
       "      <td>36</td>\n",
       "      <td>33000</td>\n",
       "    </tr>\n",
       "    <tr>\n",
       "      <th>399</th>\n",
       "      <td>49</td>\n",
       "      <td>36000</td>\n",
       "    </tr>\n",
       "  </tbody>\n",
       "</table>\n",
       "<p>400 rows × 2 columns</p>\n",
       "</div>"
      ],
      "text/plain": [
       "     Age  EstimatedSalary\n",
       "0     19            19000\n",
       "1     35            20000\n",
       "2     26            43000\n",
       "3     27            57000\n",
       "4     19            76000\n",
       "..   ...              ...\n",
       "395   46            41000\n",
       "396   51            23000\n",
       "397   50            20000\n",
       "398   36            33000\n",
       "399   49            36000\n",
       "\n",
       "[400 rows x 2 columns]"
      ]
     },
     "execution_count": 15,
     "metadata": {},
     "output_type": "execute_result"
    }
   ],
   "source": [
    "X= dataset[['Age', 'EstimatedSalary']]\n",
    "X"
   ]
  },
  {
   "cell_type": "code",
   "execution_count": 16,
   "id": "f7a76d1e",
   "metadata": {},
   "outputs": [
    {
     "data": {
      "text/plain": [
       "0      0\n",
       "1      0\n",
       "2      0\n",
       "3      0\n",
       "4      0\n",
       "      ..\n",
       "395    1\n",
       "396    1\n",
       "397    1\n",
       "398    0\n",
       "399    1\n",
       "Name: Purchased, Length: 400, dtype: int64"
      ]
     },
     "execution_count": 16,
     "metadata": {},
     "output_type": "execute_result"
    }
   ],
   "source": [
    "Y= dataset.iloc[  :,4].values\n",
    "Y= dataset['Purchased']\n",
    "\n",
    "Y"
   ]
  },
  {
   "cell_type": "markdown",
   "id": "9eade9b8",
   "metadata": {},
   "source": [
    "### Train and Test Split"
   ]
  },
  {
   "cell_type": "code",
   "execution_count": 60,
   "id": "b2a64ff2",
   "metadata": {},
   "outputs": [
    {
     "data": {
      "text/html": [
       "<div>\n",
       "<style scoped>\n",
       "    .dataframe tbody tr th:only-of-type {\n",
       "        vertical-align: middle;\n",
       "    }\n",
       "\n",
       "    .dataframe tbody tr th {\n",
       "        vertical-align: top;\n",
       "    }\n",
       "\n",
       "    .dataframe thead th {\n",
       "        text-align: right;\n",
       "    }\n",
       "</style>\n",
       "<table border=\"1\" class=\"dataframe\">\n",
       "  <thead>\n",
       "    <tr style=\"text-align: right;\">\n",
       "      <th></th>\n",
       "      <th>Age</th>\n",
       "      <th>EstimatedSalary</th>\n",
       "    </tr>\n",
       "  </thead>\n",
       "  <tbody>\n",
       "    <tr>\n",
       "      <th>164</th>\n",
       "      <td>33</td>\n",
       "      <td>69000</td>\n",
       "    </tr>\n",
       "    <tr>\n",
       "      <th>332</th>\n",
       "      <td>42</td>\n",
       "      <td>65000</td>\n",
       "    </tr>\n",
       "    <tr>\n",
       "      <th>29</th>\n",
       "      <td>31</td>\n",
       "      <td>18000</td>\n",
       "    </tr>\n",
       "    <tr>\n",
       "      <th>301</th>\n",
       "      <td>48</td>\n",
       "      <td>74000</td>\n",
       "    </tr>\n",
       "    <tr>\n",
       "      <th>72</th>\n",
       "      <td>20</td>\n",
       "      <td>23000</td>\n",
       "    </tr>\n",
       "    <tr>\n",
       "      <th>...</th>\n",
       "      <td>...</td>\n",
       "      <td>...</td>\n",
       "    </tr>\n",
       "    <tr>\n",
       "      <th>380</th>\n",
       "      <td>42</td>\n",
       "      <td>64000</td>\n",
       "    </tr>\n",
       "    <tr>\n",
       "      <th>310</th>\n",
       "      <td>42</td>\n",
       "      <td>70000</td>\n",
       "    </tr>\n",
       "    <tr>\n",
       "      <th>389</th>\n",
       "      <td>48</td>\n",
       "      <td>35000</td>\n",
       "    </tr>\n",
       "    <tr>\n",
       "      <th>43</th>\n",
       "      <td>30</td>\n",
       "      <td>15000</td>\n",
       "    </tr>\n",
       "    <tr>\n",
       "      <th>215</th>\n",
       "      <td>60</td>\n",
       "      <td>108000</td>\n",
       "    </tr>\n",
       "  </tbody>\n",
       "</table>\n",
       "<p>266 rows × 2 columns</p>\n",
       "</div>"
      ],
      "text/plain": [
       "     Age  EstimatedSalary\n",
       "164   33            69000\n",
       "332   42            65000\n",
       "29    31            18000\n",
       "301   48            74000\n",
       "72    20            23000\n",
       "..   ...              ...\n",
       "380   42            64000\n",
       "310   42            70000\n",
       "389   48            35000\n",
       "43    30            15000\n",
       "215   60           108000\n",
       "\n",
       "[266 rows x 2 columns]"
      ]
     },
     "execution_count": 60,
     "metadata": {},
     "output_type": "execute_result"
    }
   ],
   "source": [
    "from sklearn.model_selection import train_test_split\n",
    "\n",
    "X_train, X_test, Y_train, Y_test= train_test_split(X, Y, test_size= 1/3 , random_state= 32)\n",
    "\n",
    "X_train"
   ]
  },
  {
   "cell_type": "markdown",
   "id": "e4bf4fad",
   "metadata": {},
   "source": [
    "#### Feature Scalling"
   ]
  },
  {
   "cell_type": "code",
   "execution_count": 68,
   "id": "d32940b7",
   "metadata": {},
   "outputs": [],
   "source": [
    "s1= StandardScaler()\n",
    "X_train= s1.fit_transform(X_train)\n",
    "X_test= s1.transform(X_test)"
   ]
  },
  {
   "cell_type": "code",
   "execution_count": 69,
   "id": "5cbe1e9a",
   "metadata": {},
   "outputs": [
    {
     "data": {
      "text/plain": [
       "array([[-0.42911487, -0.03317888],\n",
       "       [ 0.46419035, -0.15407724],\n",
       "       [-0.62762715, -1.57463308],\n",
       "       [ 1.05972717,  0.11794409],\n",
       "       [-1.71944464, -1.42351012],\n",
       "       [-0.03209033,  0.0574949 ],\n",
       "       [ 0.76195876, -0.75856909],\n",
       "       [ 0.86121489, -0.3354248 ],\n",
       "       [ 1.35749557, -1.42351012],\n",
       "       [-0.03209033,  0.69221134],\n",
       "       [ 0.76195876, -1.33283634],\n",
       "       [ 0.56344649,  1.90119503],\n",
       "       [-1.22316396, -1.1212642 ],\n",
       "       [ 0.06716581,  0.02727031],\n",
       "       [-0.92539555, -0.45632317],\n",
       "       [ 0.46419035,  0.60153756],\n",
       "       [ 1.1589833 , -0.15407724],\n",
       "       [ 1.65526398, -1.33283634],\n",
       "       [-0.03209033,  0.02727031],\n",
       "       [-1.12390783, -0.81901828],\n",
       "       [ 2.2508008 , -0.84924287],\n",
       "       [ 1.05972717,  0.60153756],\n",
       "       [ 0.96047103, -1.09103961],\n",
       "       [-0.13134647, -0.48654776],\n",
       "       [ 0.76195876, -1.45373471],\n",
       "       [-0.13134647, -0.54699694],\n",
       "       [ 1.05972717, -1.1212642 ],\n",
       "       [-1.12390783, -0.54699694],\n",
       "       [-0.03209033, -0.54699694],\n",
       "       [-0.03209033, -0.51677235],\n",
       "       [-0.52837101,  0.90378349],\n",
       "       [ 2.15154466,  2.20344095],\n",
       "       [ 0.26567808, -0.30520021],\n",
       "       [-0.03209033,  0.14816868],\n",
       "       [ 1.25823944, -1.03059042],\n",
       "       [ 0.16642194, -0.84924287],\n",
       "       [ 0.36493421, -0.21452643],\n",
       "       [ 2.05228853,  0.93400808],\n",
       "       [ 0.06716581, -0.27497561],\n",
       "       [ 0.46419035,  0.26906705],\n",
       "       [ 0.96047103, -1.5141839 ],\n",
       "       [-0.62762715,  1.44782615],\n",
       "       [-0.32985874,  1.26647859],\n",
       "       [ 0.26567808,  0.02727031],\n",
       "       [-0.03209033,  0.26906705],\n",
       "       [ 1.55600785,  0.35974082],\n",
       "       [-0.82613942,  0.29929164],\n",
       "       [-0.2306026 ,  0.14816868],\n",
       "       [ 0.16642194,  0.78288512],\n",
       "       [-0.62762715, -1.09103961],\n",
       "       [-1.91795691, -0.06340347],\n",
       "       [ 0.86121489,  0.54108838],\n",
       "       [ 2.2508008 , -0.84924287],\n",
       "       [-1.42167623, -0.21452643],\n",
       "       [-0.72688328, -0.24475102],\n",
       "       [-0.92539555,  0.4504146 ],\n",
       "       [ 0.96047103, -0.57722154],\n",
       "       [ 1.45675171,  2.05231799],\n",
       "       [ 0.26567808, -0.69811991],\n",
       "       [ 0.06716581, -0.57722154],\n",
       "       [-0.42911487, -1.18171338],\n",
       "       [-1.22316396,  0.60153756],\n",
       "       [ 1.05972717, -0.87946746],\n",
       "       [-0.32985874,  0.0574949 ],\n",
       "       [-0.13134647, -0.30520021],\n",
       "       [-1.12390783, -1.21193797],\n",
       "       [-1.02465169, -0.36564939],\n",
       "       [-0.72688328,  1.38737696],\n",
       "       [ 0.46419035,  1.02468185],\n",
       "       [ 0.16642194, -0.3354248 ],\n",
       "       [-0.13134647, -0.60744613],\n",
       "       [ 0.86121489,  0.78288512],\n",
       "       [ 0.86121489,  0.11794409],\n",
       "       [ 1.95303239,  0.11794409],\n",
       "       [ 1.95303239, -0.30520021],\n",
       "       [-0.82613942,  2.35456391],\n",
       "       [ 0.36493421,  0.0574949 ],\n",
       "       [ 1.1589833 , -1.03059042],\n",
       "       [ 0.46419035, -0.48654776],\n",
       "       [ 0.96047103, -0.60744613],\n",
       "       [ 0.46419035,  2.38478851],\n",
       "       [-0.62762715, -0.36564939],\n",
       "       [ 0.06716581, -0.3354248 ],\n",
       "       [ 0.16642194, -0.84924287],\n",
       "       [ 0.16642194,  1.08513104],\n",
       "       [ 0.96047103, -0.63767072],\n",
       "       [ 0.46419035, -0.51677235],\n",
       "       [ 0.16642194,  0.02727031],\n",
       "       [ 1.05972717,  1.47805074],\n",
       "       [-0.62762715,  0.02727031],\n",
       "       [-0.32985874,  1.35715237],\n",
       "       [-0.62762715, -1.66530686],\n",
       "       [-0.03209033, -1.1212642 ],\n",
       "       [-0.2306026 , -0.51677235],\n",
       "       [-1.6201885 , -1.63508227],\n",
       "       [-0.03209033, -0.45632317],\n",
       "       [ 0.76195876, -1.15148879],\n",
       "       [ 0.86121489, -1.42351012],\n",
       "       [ 0.96047103,  1.11535563],\n",
       "       [-1.12390783, -1.66530686],\n",
       "       [ 2.05228853,  0.75266052],\n",
       "       [-0.2306026 , -0.30520021],\n",
       "       [-0.03209033,  0.20861786],\n",
       "       [ 1.05972717,  2.14299177],\n",
       "       [-0.2306026 , -0.36564939],\n",
       "       [ 1.1589833 , -1.27238716],\n",
       "       [-0.2306026 ,  0.0574949 ],\n",
       "       [-0.82613942, -1.27238716],\n",
       "       [ 1.95303239, -1.33283634],\n",
       "       [ 0.96047103, -1.36306094],\n",
       "       [-0.72688328, -1.60485767],\n",
       "       [-0.72688328,  0.51086379],\n",
       "       [-0.2306026 ,  0.02727031],\n",
       "       [-1.12390783,  0.0574949 ],\n",
       "       [-1.3224201 , -0.45632317],\n",
       "       [ 0.16642194,  0.20861786],\n",
       "       [-0.62762715,  0.11794409],\n",
       "       [-0.42911487,  1.29670318],\n",
       "       [-0.13134647,  0.87355889],\n",
       "       [-0.03209033,  0.23884245],\n",
       "       [-1.3224201 , -0.45632317],\n",
       "       [-1.02465169, -0.48654776],\n",
       "       [ 0.56344649,  1.78029666],\n",
       "       [-1.12390783, -1.66530686],\n",
       "       [-1.91795691,  0.48063919],\n",
       "       [-0.13134647,  1.68962288],\n",
       "       [ 1.65526398, -0.00295428],\n",
       "       [-0.92539555, -1.00036583],\n",
       "       [ 0.06716581, -0.45632317],\n",
       "       [ 1.45675171,  1.32692778],\n",
       "       [ 0.16642194,  0.26906705],\n",
       "       [-0.92539555,  0.26906705],\n",
       "       [-1.81870078, -1.48395931],\n",
       "       [ 2.05228853, -1.42351012],\n",
       "       [-0.2306026 , -0.45632317],\n",
       "       [ 0.26567808,  1.11535563],\n",
       "       [-1.6201885 , -0.06340347],\n",
       "       [-0.72688328,  0.26906705],\n",
       "       [ 0.36493421,  0.0574949 ],\n",
       "       [-1.42167623, -1.27238716],\n",
       "       [ 0.16642194,  1.93141962],\n",
       "       [-0.2306026 , -0.60744613],\n",
       "       [ 2.15154466,  1.81052125],\n",
       "       [-1.42167623,  0.35974082],\n",
       "       [ 1.75452012, -0.93991664],\n",
       "       [ 0.46419035,  0.29929164],\n",
       "       [ 0.56344649,  1.26647859],\n",
       "       [ 0.26567808,  0.23884245],\n",
       "       [ 1.75452012,  1.65939829],\n",
       "       [-0.42911487, -0.81901828],\n",
       "       [-0.42911487, -0.57722154],\n",
       "       [ 0.36493421, -0.54699694],\n",
       "       [-0.03209033, -0.24475102],\n",
       "       [ 0.36493421, -0.30520021],\n",
       "       [ 0.36493421, -0.54699694],\n",
       "       [-0.2306026 , -1.42351012],\n",
       "       [-0.52837101,  1.41760155],\n",
       "       [-0.42911487, -1.27238716],\n",
       "       [-1.81870078, -1.33283634],\n",
       "       [ 0.26567808, -0.39587398],\n",
       "       [-0.72688328,  1.96164422],\n",
       "       [-0.72688328,  0.57131297],\n",
       "       [-1.02465169,  0.42019001],\n",
       "       [-0.92539555,  1.59894911],\n",
       "       [-0.03209033,  2.23366555],\n",
       "       [-0.62762715, -0.06340347],\n",
       "       [-0.2306026 ,  0.54108838],\n",
       "       [-0.13134647, -1.1212642 ],\n",
       "       [-0.2306026 , -0.69811991],\n",
       "       [-0.62762715,  0.57131297],\n",
       "       [-1.3224201 ,  0.42019001],\n",
       "       [ 0.36493421,  0.29929164],\n",
       "       [-0.13134647,  1.44782615],\n",
       "       [ 1.05972717, -1.21193797],\n",
       "       [-1.71944464,  0.35974082],\n",
       "       [-0.92539555,  0.57131297],\n",
       "       [ 0.16642194,  0.14816868],\n",
       "       [ 1.85377625,  1.90119503],\n",
       "       [ 0.26567808,  0.14816868],\n",
       "       [-1.81870078, -1.54440849],\n",
       "       [ 0.16642194, -0.27497561],\n",
       "       [ 0.86121489, -0.87946746],\n",
       "       [ 0.36493421, -0.3354248 ],\n",
       "       [ 0.46419035,  1.14558022],\n",
       "       [-0.2306026 , -0.93991664],\n",
       "       [ 0.26567808,  0.0574949 ],\n",
       "       [-1.12390783, -1.06081501],\n",
       "       [ 0.16642194,  1.56872452],\n",
       "       [-0.52837101,  2.4150131 ],\n",
       "       [-0.2306026 ,  0.14816868],\n",
       "       [-1.91795691, -0.54699694],\n",
       "       [ 0.36493421, -1.21193797],\n",
       "       [-1.12390783,  0.42019001],\n",
       "       [ 0.06716581, -0.60744613],\n",
       "       [-0.92539555,  0.51086379],\n",
       "       [ 0.46419035, -0.15407724],\n",
       "       [ 0.26567808, -0.39587398],\n",
       "       [ 0.36493421,  0.0574949 ],\n",
       "       [-0.52837101,  1.96164422],\n",
       "       [-1.91795691, -0.78879368],\n",
       "       [-0.92539555, -1.15148879],\n",
       "       [-0.2306026 , -0.3354248 ],\n",
       "       [-1.12390783,  0.29929164],\n",
       "       [-0.2306026 , -0.27497561],\n",
       "       [ 1.75452012,  1.81052125],\n",
       "       [ 2.05228853,  2.23366555],\n",
       "       [ 0.66270262, -0.93991664],\n",
       "       [-0.42911487, -0.87946746],\n",
       "       [-0.2306026 ,  0.26906705],\n",
       "       [ 1.55600785,  1.02468185],\n",
       "       [-1.52093237, -0.21452643],\n",
       "       [ 0.86121489,  0.26906705],\n",
       "       [-1.6201885 ,  0.0574949 ],\n",
       "       [-0.2306026 ,  0.08771949],\n",
       "       [-1.3224201 , -1.42351012],\n",
       "       [ 0.36493421,  0.02727031],\n",
       "       [ 0.86121489,  1.41760155],\n",
       "       [-0.62762715,  0.17839327],\n",
       "       [-0.32985874, -0.81901828],\n",
       "       [-1.3224201 , -1.15148879],\n",
       "       [-1.22316396,  0.51086379],\n",
       "       [-0.52837101, -1.57463308],\n",
       "       [ 0.46419035,  0.29929164],\n",
       "       [ 1.35749557,  1.93141962],\n",
       "       [ 1.45675171,  2.4150131 ],\n",
       "       [ 0.26567808,  2.17321636],\n",
       "       [ 2.2508008 ,  0.38996542],\n",
       "       [ 0.06716581,  1.29670318],\n",
       "       [ 0.16642194,  0.02727031],\n",
       "       [ 1.1589833 , -0.93991664],\n",
       "       [ 2.15154466,  0.38996542],\n",
       "       [ 1.55600785,  2.20344095],\n",
       "       [-1.52093237,  0.32951623],\n",
       "       [-0.2306026 ,  0.63176215],\n",
       "       [-0.82613942,  0.38996542],\n",
       "       [-0.82613942,  0.14816868],\n",
       "       [-0.13134647,  0.14816868],\n",
       "       [-1.42167623, -0.12385265],\n",
       "       [-0.03209033,  0.11794409],\n",
       "       [-1.52093237, -1.30261175],\n",
       "       [-1.52093237, -0.45632317],\n",
       "       [-0.2306026 ,  0.81310971],\n",
       "       [-0.62762715, -0.12385265],\n",
       "       [ 0.36493421,  0.51086379],\n",
       "       [-1.02465169,  0.54108838],\n",
       "       [-0.92539555, -0.3354248 ],\n",
       "       [-1.71944464, -0.63767072],\n",
       "       [-0.2306026 ,  1.14558022],\n",
       "       [ 2.15154466,  0.54108838],\n",
       "       [-0.2306026 , -1.30261175],\n",
       "       [-1.3224201 , -0.36564939],\n",
       "       [ 1.05972717, -1.1212642 ],\n",
       "       [-1.81870078, -1.36306094],\n",
       "       [-1.81870078,  0.17839327],\n",
       "       [-0.2306026 , -0.15407724],\n",
       "       [ 0.06716581,  1.26647859],\n",
       "       [ 0.76195876,  1.84074585],\n",
       "       [-0.2306026 , -0.60744613],\n",
       "       [-1.3224201 , -1.30261175],\n",
       "       [ 1.05972717,  1.93141962],\n",
       "       [-1.12390783,  0.32951623],\n",
       "       [ 0.46419035, -0.18430184],\n",
       "       [ 0.46419035, -0.00295428],\n",
       "       [ 1.05972717, -1.06081501],\n",
       "       [-0.72688328, -1.66530686],\n",
       "       [ 2.2508008 ,  1.14558022]])"
      ]
     },
     "execution_count": 69,
     "metadata": {},
     "output_type": "execute_result"
    }
   ],
   "source": [
    "X_train"
   ]
  },
  {
   "cell_type": "markdown",
   "id": "e9464cfd",
   "metadata": {},
   "source": [
    "#### Intantiating and fitting the model to training dataset "
   ]
  },
  {
   "cell_type": "code",
   "execution_count": 70,
   "id": "86362bbf",
   "metadata": {},
   "outputs": [],
   "source": [
    "from sklearn.linear_model import LogisticRegression\n",
    "from sklearn.metrics import accuracy_score, precision_score, recall_score\n",
    "from sklearn.metrics import classification_report, confusion_matrix"
   ]
  },
  {
   "cell_type": "code",
   "execution_count": 71,
   "id": "154e20b1",
   "metadata": {},
   "outputs": [
    {
     "data": {
      "text/plain": [
       "LogisticRegression()"
      ]
     },
     "execution_count": 71,
     "metadata": {},
     "output_type": "execute_result"
    }
   ],
   "source": [
    "logis_reg_model = LogisticRegression()\n",
    "logis_reg_model.fit(X_train, Y_train)"
   ]
  },
  {
   "cell_type": "code",
   "execution_count": null,
   "id": "ce336b37",
   "metadata": {},
   "outputs": [],
   "source": []
  },
  {
   "cell_type": "markdown",
   "id": "108a0434",
   "metadata": {},
   "source": [
    "#### Data Prediction"
   ]
  },
  {
   "cell_type": "code",
   "execution_count": 72,
   "id": "ee4b43c3",
   "metadata": {},
   "outputs": [],
   "source": [
    "Y_test_preds =  logis_reg_model.predict(X_test)\n",
    "Y_train_preds = logis_reg_model.predict(X_train)"
   ]
  },
  {
   "cell_type": "code",
   "execution_count": null,
   "id": "36a6c15a",
   "metadata": {},
   "outputs": [],
   "source": []
  },
  {
   "cell_type": "code",
   "execution_count": 73,
   "id": "580cedb8",
   "metadata": {},
   "outputs": [
    {
     "name": "stdout",
     "output_type": "stream",
     "text": [
      "accuracy on Train- 0.849624060150376\n",
      "accuracy on test- 0.8507462686567164\n"
     ]
    }
   ],
   "source": [
    "print('accuracy on Train-', accuracy_score(Y_train, Y_train_preds))\n",
    "print('accuracy on test-', accuracy_score(Y_test, Y_test_preds))"
   ]
  },
  {
   "cell_type": "code",
   "execution_count": 74,
   "id": "d1def36d",
   "metadata": {},
   "outputs": [
    {
     "data": {
      "text/plain": [
       "(266,)"
      ]
     },
     "execution_count": 74,
     "metadata": {},
     "output_type": "execute_result"
    }
   ],
   "source": [
    "logis_reg_model.predict(X_train).shape"
   ]
  },
  {
   "cell_type": "code",
   "execution_count": null,
   "id": "cd10e526",
   "metadata": {},
   "outputs": [],
   "source": []
  },
  {
   "cell_type": "code",
   "execution_count": 75,
   "id": "0e62f279",
   "metadata": {},
   "outputs": [
    {
     "data": {
      "text/plain": [
       "0.8507462686567164"
      ]
     },
     "execution_count": 75,
     "metadata": {},
     "output_type": "execute_result"
    }
   ],
   "source": [
    "accuracy_score(np.array(Y_test),logis_reg_model.predict(X_test) )"
   ]
  },
  {
   "cell_type": "code",
   "execution_count": 76,
   "id": "e4b71e11",
   "metadata": {},
   "outputs": [
    {
     "data": {
      "text/plain": [
       "0.849624060150376"
      ]
     },
     "execution_count": 76,
     "metadata": {},
     "output_type": "execute_result"
    }
   ],
   "source": [
    "accuracy_score(np.array(Y_train),logis_reg_model.predict(X_train) )"
   ]
  },
  {
   "cell_type": "code",
   "execution_count": 77,
   "id": "2c1b4a4f",
   "metadata": {},
   "outputs": [
    {
     "data": {
      "text/plain": [
       "array([1, 0, 0, 1, 1, 0, 0, 1, 1, 0, 0, 0, 1, 0, 0, 0, 0, 1, 0, 1, 1, 0,\n",
       "       1, 1, 0, 1, 0, 0, 1, 0, 1, 1, 0, 1, 0, 0, 0, 1, 0, 0, 0, 0, 1, 0,\n",
       "       0, 1, 1, 0, 1, 0, 0, 1, 0, 0, 0, 0, 1, 0, 1, 0, 0, 0, 0, 1, 1, 0,\n",
       "       0, 1, 0, 1, 0, 0, 1, 1, 1, 1, 0, 0, 0, 0, 0, 1, 1, 0, 1, 1, 0, 1,\n",
       "       1, 0, 1, 0, 0, 0, 0, 0, 0, 0, 0, 0, 0, 0, 0, 0, 0, 0, 1, 1, 0, 0,\n",
       "       0, 1, 1, 0, 0, 0, 0, 0, 0, 0, 0, 1, 0, 0, 0, 0, 0, 1, 1, 1, 0, 0,\n",
       "       0, 0], dtype=int64)"
      ]
     },
     "execution_count": 77,
     "metadata": {},
     "output_type": "execute_result"
    }
   ],
   "source": [
    "logis_reg_model.predict(X_test)"
   ]
  },
  {
   "cell_type": "code",
   "execution_count": 37,
   "id": "14f3c243",
   "metadata": {},
   "outputs": [
    {
     "data": {
      "text/plain": [
       "array([[0.82672762, 0.17327238],\n",
       "       [0.97776086, 0.02223914],\n",
       "       [0.98844457, 0.01155543],\n",
       "       [0.9714437 , 0.0285563 ],\n",
       "       [0.90033718, 0.09966282],\n",
       "       [0.87364638, 0.12635362],\n",
       "       [0.6707052 , 0.3292948 ],\n",
       "       [0.73967459, 0.26032541],\n",
       "       [0.92611157, 0.07388843],\n",
       "       [0.947138  , 0.052862  ],\n",
       "       [0.69955672, 0.30044328],\n",
       "       [0.51552759, 0.48447241],\n",
       "       [0.7813354 , 0.2186646 ],\n",
       "       [0.99071534, 0.00928466],\n",
       "       [0.26114017, 0.73885983],\n",
       "       [0.32964087, 0.67035913],\n",
       "       [0.84753566, 0.15246434],\n",
       "       [0.86624916, 0.13375084],\n",
       "       [0.47804362, 0.52195638],\n",
       "       [0.99504796, 0.00495204],\n",
       "       [0.23718322, 0.76281678],\n",
       "       [0.9373662 , 0.0626338 ],\n",
       "       [0.67673631, 0.32326369],\n",
       "       [0.71143546, 0.28856454],\n",
       "       [0.75863539, 0.24136461],\n",
       "       [0.9640668 , 0.0359332 ],\n",
       "       [0.72249739, 0.27750261],\n",
       "       [0.81012091, 0.18987909],\n",
       "       [0.56900131, 0.43099869],\n",
       "       [0.94273766, 0.05726234],\n",
       "       [0.99552126, 0.00447874],\n",
       "       [0.86968456, 0.13031544],\n",
       "       [0.96320697, 0.03679303],\n",
       "       [0.97886097, 0.02113903],\n",
       "       [0.76995696, 0.23004304],\n",
       "       [0.22602015, 0.77397985],\n",
       "       [0.56897216, 0.43102784],\n",
       "       [0.9706002 , 0.0293998 ],\n",
       "       [0.89353414, 0.10646586],\n",
       "       [0.8071656 , 0.1928344 ],\n",
       "       [0.82318422, 0.17681578],\n",
       "       [0.96202827, 0.03797173],\n",
       "       [0.95197484, 0.04802516],\n",
       "       [0.68087447, 0.31912553],\n",
       "       [0.18762007, 0.81237993],\n",
       "       [0.17662203, 0.82337797],\n",
       "       [0.17863464, 0.82136536],\n",
       "       [0.95476311, 0.04523689],\n",
       "       [0.9706002 , 0.0293998 ],\n",
       "       [0.89352283, 0.10647717],\n",
       "       [0.94741562, 0.05258438],\n",
       "       [0.98908231, 0.01091769],\n",
       "       [0.97348835, 0.02651165],\n",
       "       [0.36802512, 0.63197488],\n",
       "       [0.41075957, 0.58924043],\n",
       "       [0.83325983, 0.16674017],\n",
       "       [0.94547978, 0.05452022],\n",
       "       [0.95892315, 0.04107685],\n",
       "       [0.7799075 , 0.2200925 ],\n",
       "       [0.84929231, 0.15070769],\n",
       "       [0.33444048, 0.66555952],\n",
       "       [0.10227387, 0.89772613],\n",
       "       [0.95044922, 0.04955078],\n",
       "       [0.56559005, 0.43440995],\n",
       "       [0.67969131, 0.32030869],\n",
       "       [0.80417541, 0.19582459],\n",
       "       [0.92130003, 0.07869997],\n",
       "       [0.98302507, 0.01697493],\n",
       "       [0.96800112, 0.03199888],\n",
       "       [0.97811297, 0.02188703],\n",
       "       [0.91849439, 0.08150561],\n",
       "       [0.98150564, 0.01849436],\n",
       "       [0.83325983, 0.16674017],\n",
       "       [0.23322637, 0.76677363],\n",
       "       [0.74801144, 0.25198856],\n",
       "       [0.27236922, 0.72763078],\n",
       "       [0.94928641, 0.05071359],\n",
       "       [0.6130878 , 0.3869122 ],\n",
       "       [0.3578808 , 0.6421192 ],\n",
       "       [0.94139849, 0.05860151],\n",
       "       [0.97196877, 0.02803123],\n",
       "       [0.71590611, 0.28409389],\n",
       "       [0.79094706, 0.20905294],\n",
       "       [0.04070229, 0.95929771],\n",
       "       [0.95108856, 0.04891144],\n",
       "       [0.77378841, 0.22621159],\n",
       "       [0.82397461, 0.17602539],\n",
       "       [0.93238609, 0.06761391],\n",
       "       [0.09979279, 0.90020721],\n",
       "       [0.97947247, 0.02052753],\n",
       "       [0.95903249, 0.04096751],\n",
       "       [0.98887413, 0.01112587],\n",
       "       [0.96040165, 0.03959835],\n",
       "       [0.98893252, 0.01106748],\n",
       "       [0.80631748, 0.19368252],\n",
       "       [0.92209381, 0.07790619],\n",
       "       [0.97963708, 0.02036292],\n",
       "       [0.98369358, 0.01630642],\n",
       "       [0.94547365, 0.05452635],\n",
       "       [0.4488656 , 0.5511344 ],\n",
       "       [0.90513361, 0.09486639],\n",
       "       [0.93720282, 0.06279718],\n",
       "       [0.07999789, 0.92000211],\n",
       "       [0.992502  , 0.007498  ],\n",
       "       [0.10126845, 0.89873155],\n",
       "       [0.76655667, 0.23344333],\n",
       "       [0.72683886, 0.27316114],\n",
       "       [0.68027026, 0.31972974],\n",
       "       [0.93941372, 0.06058628],\n",
       "       [0.3996018 , 0.6003982 ],\n",
       "       [0.95019802, 0.04980198],\n",
       "       [0.93358023, 0.06641977],\n",
       "       [0.80026324, 0.19973676],\n",
       "       [0.97083047, 0.02916953],\n",
       "       [0.37117993, 0.62882007],\n",
       "       [0.98311561, 0.01688439],\n",
       "       [0.8769316 , 0.1230684 ],\n",
       "       [0.79275986, 0.20724014],\n",
       "       [0.27667912, 0.72332088],\n",
       "       [0.777114  , 0.222886  ],\n",
       "       [0.94644993, 0.05355007],\n",
       "       [0.98630705, 0.01369295],\n",
       "       [0.78641406, 0.21358594],\n",
       "       [0.97067941, 0.02932059],\n",
       "       [0.91430953, 0.08569047],\n",
       "       [0.60725101, 0.39274899],\n",
       "       [0.94754801, 0.05245199],\n",
       "       [0.79678167, 0.20321833],\n",
       "       [0.86338041, 0.13661959],\n",
       "       [0.76897091, 0.23102909],\n",
       "       [0.82318422, 0.17681578],\n",
       "       [0.99592751, 0.00407249],\n",
       "       [0.43541958, 0.56458042],\n",
       "       [0.81592722, 0.18407278],\n",
       "       [0.9714437 , 0.0285563 ],\n",
       "       [0.94347058, 0.05652942],\n",
       "       [0.19954296, 0.80045704],\n",
       "       [0.7891424 , 0.2108576 ],\n",
       "       [0.99607954, 0.00392046],\n",
       "       [0.98866202, 0.01133798],\n",
       "       [0.97486255, 0.02513745],\n",
       "       [0.9373662 , 0.0626338 ],\n",
       "       [0.93408076, 0.06591924],\n",
       "       [0.54403692, 0.45596308],\n",
       "       [0.80928272, 0.19071728],\n",
       "       [0.35231585, 0.64768415],\n",
       "       [0.98806436, 0.01193564],\n",
       "       [0.12381365, 0.87618635],\n",
       "       [0.73967459, 0.26032541],\n",
       "       [0.62278981, 0.37721019],\n",
       "       [0.83478235, 0.16521765],\n",
       "       [0.32244288, 0.67755712],\n",
       "       [0.16466777, 0.83533223],\n",
       "       [0.96609092, 0.03390908],\n",
       "       [0.78178961, 0.21821039],\n",
       "       [0.70411011, 0.29588989],\n",
       "       [0.91787695, 0.08212305],\n",
       "       [0.69491322, 0.30508678],\n",
       "       [0.99150714, 0.00849286],\n",
       "       [0.93894423, 0.06105577],\n",
       "       [0.96609092, 0.03390908],\n",
       "       [0.73492177, 0.26507823],\n",
       "       [0.8736595 , 0.1263405 ],\n",
       "       [0.79896531, 0.20103469],\n",
       "       [0.96834006, 0.03165994],\n",
       "       [0.98757277, 0.01242723],\n",
       "       [0.99383095, 0.00616905],\n",
       "       [0.96320697, 0.03679303],\n",
       "       [0.79676243, 0.20323757],\n",
       "       [0.77378841, 0.22621159],\n",
       "       [0.98408442, 0.01591558],\n",
       "       [0.82118733, 0.17881267],\n",
       "       [0.82790186, 0.17209814],\n",
       "       [0.98302507, 0.01697493],\n",
       "       [0.9868856 , 0.0131144 ],\n",
       "       [0.49096502, 0.50903498],\n",
       "       [0.95146949, 0.04853051],\n",
       "       [0.94603789, 0.05396211],\n",
       "       [0.18760195, 0.81239805],\n",
       "       [0.98934413, 0.01065587],\n",
       "       [0.6943741 , 0.3056259 ],\n",
       "       [0.54403692, 0.45596308],\n",
       "       [0.85170559, 0.14829441],\n",
       "       [0.61443372, 0.38556628],\n",
       "       [0.79678167, 0.20321833],\n",
       "       [0.948619  , 0.051381  ],\n",
       "       [0.59816169, 0.40183831],\n",
       "       [0.97974295, 0.02025705],\n",
       "       [0.8450513 , 0.1549487 ],\n",
       "       [0.84290236, 0.15709764],\n",
       "       [0.73862574, 0.26137426],\n",
       "       [0.67551907, 0.32448093],\n",
       "       [0.48688714, 0.51311286],\n",
       "       [0.57495061, 0.42504939],\n",
       "       [0.95892783, 0.04107217],\n",
       "       [0.90559968, 0.09440032],\n",
       "       [0.63045391, 0.36954609],\n",
       "       [0.98275059, 0.01724941],\n",
       "       [0.91345327, 0.08654673],\n",
       "       [0.98204204, 0.01795796],\n",
       "       [0.93011101, 0.06988899],\n",
       "       [0.88099502, 0.11900498],\n",
       "       [0.79896531, 0.20103469],\n",
       "       [0.62599322, 0.37400678],\n",
       "       [0.21750987, 0.78249013],\n",
       "       [0.92685261, 0.07314739],\n",
       "       [0.20082087, 0.79917913],\n",
       "       [0.63930813, 0.36069187],\n",
       "       [0.6809003 , 0.3190997 ],\n",
       "       [0.55352464, 0.44647536],\n",
       "       [0.13235597, 0.86764403],\n",
       "       [0.98487479, 0.01512521],\n",
       "       [0.87810097, 0.12189903],\n",
       "       [0.09290209, 0.90709791],\n",
       "       [0.73967459, 0.26032541],\n",
       "       [0.98968279, 0.01031721],\n",
       "       [0.47463651, 0.52536349],\n",
       "       [0.69836207, 0.30163793],\n",
       "       [0.72958928, 0.27041072],\n",
       "       [0.66407707, 0.33592293],\n",
       "       [0.98641761, 0.01358239],\n",
       "       [0.90228321, 0.09771679],\n",
       "       [0.19954296, 0.80045704],\n",
       "       [0.99188922, 0.00811078],\n",
       "       [0.99366118, 0.00633882],\n",
       "       [0.75863539, 0.24136461],\n",
       "       [0.98487479, 0.01512521],\n",
       "       [0.8748425 , 0.1251575 ],\n",
       "       [0.81997724, 0.18002276],\n",
       "       [0.54945863, 0.45054137],\n",
       "       [0.12560801, 0.87439199],\n",
       "       [0.98551297, 0.01448703],\n",
       "       [0.96173126, 0.03826874],\n",
       "       [0.64870228, 0.35129772],\n",
       "       [0.27397755, 0.72602245],\n",
       "       [0.48827597, 0.51172403],\n",
       "       [0.60007865, 0.39992135],\n",
       "       [0.63674058, 0.36325942],\n",
       "       [0.85546691, 0.14453309],\n",
       "       [0.99372934, 0.00627066],\n",
       "       [0.22127703, 0.77872297],\n",
       "       [0.466446  , 0.533554  ],\n",
       "       [0.73492177, 0.26507823],\n",
       "       [0.33505942, 0.66494058],\n",
       "       [0.78458093, 0.21541907],\n",
       "       [0.98213772, 0.01786228],\n",
       "       [0.73440315, 0.26559685],\n",
       "       [0.91787695, 0.08212305],\n",
       "       [0.32838747, 0.67161253],\n",
       "       [0.9625241 , 0.0374759 ],\n",
       "       [0.88156417, 0.11843583],\n",
       "       [0.99461306, 0.00538694],\n",
       "       [0.98495737, 0.01504263],\n",
       "       [0.62918562, 0.37081438],\n",
       "       [0.74798903, 0.25201097],\n",
       "       [0.10101578, 0.89898422],\n",
       "       [0.83327634, 0.16672366],\n",
       "       [0.35289604, 0.64710396],\n",
       "       [0.64994095, 0.35005905],\n",
       "       [0.93768482, 0.06231518],\n",
       "       [0.52982137, 0.47017863],\n",
       "       [0.90903521, 0.09096479],\n",
       "       [0.93894423, 0.06105577],\n",
       "       [0.83627743, 0.16372257],\n",
       "       [0.37245051, 0.62754949],\n",
       "       [0.9853551 , 0.0146449 ],\n",
       "       [0.94954196, 0.05045804],\n",
       "       [0.46650516, 0.53349484],\n",
       "       [0.83739968, 0.16260032],\n",
       "       [0.77330155, 0.22669845],\n",
       "       [0.92684456, 0.07315544],\n",
       "       [0.89836762, 0.10163238],\n",
       "       [0.73705888, 0.26294112],\n",
       "       [0.38013853, 0.61986147],\n",
       "       [0.87214411, 0.12785589],\n",
       "       [0.64994095, 0.35005905],\n",
       "       [0.92402543, 0.07597457],\n",
       "       [0.9859733 , 0.0140267 ],\n",
       "       [0.71034185, 0.28965815],\n",
       "       [0.97622909, 0.02377091],\n",
       "       [0.9421475 , 0.0578525 ],\n",
       "       [0.93374502, 0.06625498],\n",
       "       [0.84397202, 0.15602798],\n",
       "       [0.66407707, 0.33592293],\n",
       "       [0.18266039, 0.81733961],\n",
       "       [0.71647105, 0.28352895],\n",
       "       [0.79186471, 0.20813529],\n",
       "       [0.21017434, 0.78982566],\n",
       "       [0.36926356, 0.63073644],\n",
       "       [0.62151101, 0.37848899],\n",
       "       [0.77138859, 0.22861141],\n",
       "       [0.82634617, 0.17365383],\n",
       "       [0.77234648, 0.22765352],\n",
       "       [0.63042622, 0.36957378],\n",
       "       [0.96842152, 0.03157848],\n",
       "       [0.06600843, 0.93399157],\n",
       "       [0.95661089, 0.04338911],\n",
       "       [0.63233915, 0.36766085],\n",
       "       [0.92758681, 0.07241319],\n",
       "       [0.69084906, 0.30915094],\n",
       "       [0.98674404, 0.01325596],\n",
       "       [0.92958261, 0.07041739],\n",
       "       [0.82157766, 0.17842234],\n",
       "       [0.76849792, 0.23150208],\n",
       "       [0.96850641, 0.03149359],\n",
       "       [0.46785926, 0.53214074],\n",
       "       [0.07343448, 0.92656552],\n",
       "       [0.8924833 , 0.1075167 ],\n",
       "       [0.98908231, 0.01091769],\n",
       "       [0.88687228, 0.11312772],\n",
       "       [0.82514641, 0.17485359],\n",
       "       [0.88494188, 0.11505812],\n",
       "       [0.32958835, 0.67041165],\n",
       "       [0.9005863 , 0.0994137 ],\n",
       "       [0.81630865, 0.18369135],\n",
       "       [0.96618185, 0.03381815],\n",
       "       [0.2984895 , 0.7015105 ],\n",
       "       [0.98726798, 0.01273202],\n",
       "       [0.95392579, 0.04607421],\n",
       "       [0.74903541, 0.25096459]])"
      ]
     },
     "execution_count": 37,
     "metadata": {},
     "output_type": "execute_result"
    }
   ],
   "source": [
    "logis_reg_model.predict_proba(X_test)"
   ]
  },
  {
   "cell_type": "code",
   "execution_count": null,
   "id": "18e23cea",
   "metadata": {},
   "outputs": [],
   "source": []
  },
  {
   "cell_type": "markdown",
   "id": "1146e6a9",
   "metadata": {},
   "source": [
    "## Classification Report"
   ]
  },
  {
   "cell_type": "code",
   "execution_count": 78,
   "id": "ae39b686",
   "metadata": {},
   "outputs": [
    {
     "name": "stdout",
     "output_type": "stream",
     "text": [
      "              precision    recall  f1-score   support\n",
      "\n",
      "           0       0.85      0.93      0.89       176\n",
      "           1       0.84      0.69      0.76        90\n",
      "\n",
      "    accuracy                           0.85       266\n",
      "   macro avg       0.85      0.81      0.82       266\n",
      "weighted avg       0.85      0.85      0.85       266\n",
      "\n"
     ]
    }
   ],
   "source": [
    "print(classification_report(Y_train, Y_train_preds))"
   ]
  },
  {
   "cell_type": "code",
   "execution_count": null,
   "id": "2fbf2970",
   "metadata": {},
   "outputs": [],
   "source": []
  },
  {
   "cell_type": "code",
   "execution_count": 79,
   "id": "b79abb04",
   "metadata": {},
   "outputs": [
    {
     "name": "stdout",
     "output_type": "stream",
     "text": [
      "              precision    recall  f1-score   support\n",
      "\n",
      "           0       0.85      0.91      0.88        81\n",
      "           1       0.85      0.75      0.80        53\n",
      "\n",
      "    accuracy                           0.85       134\n",
      "   macro avg       0.85      0.83      0.84       134\n",
      "weighted avg       0.85      0.85      0.85       134\n",
      "\n"
     ]
    }
   ],
   "source": [
    "print(classification_report(Y_test, Y_test_preds))"
   ]
  },
  {
   "cell_type": "code",
   "execution_count": null,
   "id": "ff80270c",
   "metadata": {},
   "outputs": [],
   "source": []
  },
  {
   "cell_type": "markdown",
   "id": "026e038b",
   "metadata": {},
   "source": [
    "### Confusion Metrics"
   ]
  },
  {
   "cell_type": "code",
   "execution_count": 82,
   "id": "cf99a4a3",
   "metadata": {},
   "outputs": [
    {
     "data": {
      "text/plain": [
       "array([[164,  12],\n",
       "       [ 28,  62]], dtype=int64)"
      ]
     },
     "execution_count": 82,
     "metadata": {},
     "output_type": "execute_result"
    }
   ],
   "source": [
    "confusion_mat= confusion_matrix(Y_train, Y_train_preds)\n",
    "confusion_mat"
   ]
  },
  {
   "cell_type": "code",
   "execution_count": null,
   "id": "373abfc4",
   "metadata": {},
   "outputs": [],
   "source": []
  },
  {
   "cell_type": "code",
   "execution_count": 84,
   "id": "d268f686",
   "metadata": {},
   "outputs": [
    {
     "data": {
      "text/plain": [
       "<AxesSubplot:>"
      ]
     },
     "execution_count": 84,
     "metadata": {},
     "output_type": "execute_result"
    },
    {
     "data": {
      "image/png": "[encoded data removed]",
      "text/plain": [
       "<Figure size 800x500 with 2 Axes>"
      ]
     },
     "metadata": {},
     "output_type": "display_data"
    }
   ],
   "source": [
    "fig, ax= plt.subplots(figsize= (8,5))\n",
    "\n",
    "sns.heatmap(confusion_mat, annot= True, ax=ax)"
   ]
  },
  {
   "cell_type": "code",
   "execution_count": null,
   "id": "0deffbee",
   "metadata": {},
   "outputs": [],
   "source": []
  },
  {
   "cell_type": "code",
   "execution_count": null,
   "id": "3b50c131",
   "metadata": {},
   "outputs": [],
   "source": []
  },
  {
   "cell_type": "code",
   "execution_count": null,
   "id": "d4fa9957",
   "metadata": {},
   "outputs": [],
   "source": []
  }
 ],
 "metadata": {
  "kernelspec": {
   "display_name": "Python 3 (ipykernel)",
   "language": "python",
   "name": "python3"
  },
  "language_info": {
   "codemirror_mode": {
    "name": "ipython",
    "version": 3
   },
   "file_extension": ".py",
   "mimetype": "text/x-python",
   "name": "python",
   "nbconvert_exporter": "python",
   "pygments_lexer": "ipython3",
   "version": "3.9.13"
  }
 },
 "nbformat": 4,
 "nbformat_minor": 5
}
